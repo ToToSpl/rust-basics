{
 "cells": [
  {
   "cell_type": "code",
   "execution_count": 463,
   "metadata": {},
   "outputs": [],
   "source": [
    "import numpy as np\n",
    "from mpmath import mp, matrix\n",
    "mp.dps = 128"
   ]
  },
  {
   "cell_type": "code",
   "execution_count": 464,
   "metadata": {},
   "outputs": [
    {
     "name": "stdout",
     "output_type": "stream",
     "text": [
      "[[ 2.77903024e+14  3.68934107e+14  2.98537551e+14 -1.18000000e+02\n",
      "  -1.07000000e+02  6.20000000e+01]\n",
      " [ 1.83412557e+14  4.18647008e+14  2.19970940e+14  7.20000000e+01\n",
      "  -2.15000000e+02  1.33000000e+02]\n",
      " [ 3.78231151e+14  3.38743238e+14  3.02779683e+14 -1.18000000e+02\n",
      "  -2.60000000e+02 -3.44000000e+02]\n",
      " ...\n",
      " [ 3.94367997e+14  2.44332900e+14  1.60141753e+14 -5.40000000e+01\n",
      "   2.12000000e+02  1.75000000e+02]\n",
      " [ 3.57899663e+14  2.78744202e+14  1.92090350e+14  8.20000000e+01\n",
      "  -4.80000000e+01  1.00000000e+01]\n",
      " [ 2.41224163e+14  3.52379070e+14  6.16044813e+13  1.53000000e+02\n",
      "  -1.93000000e+02  4.57000000e+02]]\n"
     ]
    }
   ],
   "source": [
    "data = []\n",
    "with open(\"input.txt\") as w:\n",
    "    for line in w.readlines():\n",
    "        v = line.split(\" @ \")[0].split(\",\") + line.split(\" @ \")[1].split(\",\")\n",
    "        v = np.array(v, dtype=np.float64)\n",
    "        data.append(v)\n",
    "data = np.array(data, dtype=np.float64)\n",
    "print(data)"
   ]
  },
  {
   "cell_type": "code",
   "execution_count": 465,
   "metadata": {},
   "outputs": [],
   "source": [
    "x1 = data[1][0]; y1 = data[1][1]; z1 = data[1][2]\n",
    "x2 = data[2][0]; y2 = data[2][1]; z2 = data[2][2]\n",
    "x3 = data[4][0]; y3 = data[4][1]; z3 = data[4][2]\n",
    "\n",
    "vx1 = data[1][3]; vy1 = data[1][4]; vz1 = data[1][5]\n",
    "vx2 = data[2][3]; vy2 = data[2][4]; vz2 = data[2][5]\n",
    "vx3 = data[4][3]; vy3 = data[4][4]; vz3 = data[4][5]"
   ]
  },
  {
   "cell_type": "code",
   "execution_count": 466,
   "metadata": {},
   "outputs": [
    {
     "data": {
      "text/plain": [
       "(array([[-4.50000000e+01,  1.90000000e+02,  0.00000000e+00,\n",
       "          7.99037702e+13,  1.94818594e+14,  0.00000000e+00],\n",
       "        [-4.77000000e+02,  0.00000000e+00,  1.90000000e+02,\n",
       "         -8.28087438e+13,  0.00000000e+00,  1.94818594e+14],\n",
       "        [ 0.00000000e+00, -4.77000000e+02,  4.50000000e+01,\n",
       "          0.00000000e+00, -8.28087438e+13, -7.99037702e+13],\n",
       "        [ 1.93000000e+02, -1.70000000e+01,  0.00000000e+00,\n",
       "          1.45697528e+14,  1.87342483e+14,  0.00000000e+00],\n",
       "        [ 3.08000000e+02,  0.00000000e+00, -1.70000000e+01,\n",
       "          9.52457351e+13,  0.00000000e+00,  1.87342483e+14],\n",
       "        [ 0.00000000e+00,  3.08000000e+02, -1.93000000e+02,\n",
       "          0.00000000e+00,  9.52457351e+13, -1.45697528e+14]]),\n",
       " array([ 1.12078872e+16, -1.02939476e+17, -1.40778760e+17,  3.71271698e+16,\n",
       "         1.43846467e+17,  2.01408711e+16]))"
      ]
     },
     "execution_count": 466,
     "metadata": {},
     "output_type": "execute_result"
    }
   ],
   "source": [
    "A = np.array([\n",
    "    [vy2-vy1, vx1-vx2, 0.0, y1-y2, x2-x1, 0.0],\n",
    "    [vz2-vz1, 0.0, vx1-vx2, z1-z2, 0.0, x2-x1],\n",
    "    [0.0, vz2-vz1, vy1-vy2, 0.0, z1-z2, y2-y1],\n",
    "\n",
    "    [vy3-vy1, vx1-vx3, 0.0, y1-y3, x3-x1, 0.0],\n",
    "    [vz3-vz1, 0.0, vx1-vx3, z1-z3, 0.0, x3-x1],\n",
    "    [0.0, vz3-vz1, vy1-vy3, 0.0, z1-z3, y3-y1],\n",
    "], dtype=np.float64)\n",
    "\n",
    "b = np.array([\n",
    "    (y1*vx1-y2*vx2) - (x1*vy1-x2*vy2),\n",
    "    (z1*vx1-z2*vx2) - (x1*vz1-x2*vz2),\n",
    "    (z1*vy1-z2*vy2) - (y1*vz1-y2*vz2),\n",
    "\n",
    "    (y1*vx1-y3*vx3) - (x1*vy1-x3*vy3),\n",
    "    (z1*vx1-z3*vx3) - (x1*vz1-x3*vz3),\n",
    "    (z1*vy1-z3*vy3) - (y1*vz1-y3*vz3),\n",
    "], dtype=np.float64)\n",
    "A, b"
   ]
  },
  {
   "cell_type": "code",
   "execution_count": 467,
   "metadata": {},
   "outputs": [
    {
     "name": "stdout",
     "output_type": "stream",
     "text": [
      "[0.0]\n",
      "[0.0]\n",
      "[0.0]\n",
      "[0.0]\n",
      "[0.0]\n",
      "[0.0]\n"
     ]
    }
   ],
   "source": [
    "A = matrix(A)\n",
    "b = matrix(b)\n",
    "A_inv = A**-1\n",
    "x = A_inv * b\n",
    "print(A*x - b)"
   ]
  },
  {
   "cell_type": "code",
   "execution_count": 468,
   "metadata": {},
   "outputs": [
    {
     "data": {
      "text/plain": [
       "mpf('843888100572887.64220442234889882874246583060730142902194447332617685323234190988314623184645509938104619414583400258382617487247666')"
      ]
     },
     "execution_count": 468,
     "metadata": {},
     "output_type": "execute_result"
    }
   ],
   "source": [
    "x[0]+x[1]+x[2]"
   ]
  }
 ],
 "metadata": {
  "kernelspec": {
   "display_name": "Python 3",
   "language": "python",
   "name": "python3"
  },
  "language_info": {
   "codemirror_mode": {
    "name": "ipython",
    "version": 3
   },
   "file_extension": ".py",
   "mimetype": "text/x-python",
   "name": "python",
   "nbconvert_exporter": "python",
   "pygments_lexer": "ipython3",
   "version": "3.11.6"
  }
 },
 "nbformat": 4,
 "nbformat_minor": 2
}
